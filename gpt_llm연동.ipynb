{
 "cells": [
  {
   "cell_type": "code",
   "execution_count": 2,
   "id": "148076c8",
   "metadata": {},
   "outputs": [
    {
     "name": "stdout",
     "output_type": "stream",
     "text": [
      "Hello LangChain ChatGPT\n"
     ]
    }
   ],
   "source": [
    "print('Hello LangChain ChatGPT')"
   ]
  },
  {
   "cell_type": "code",
   "execution_count": 3,
   "id": "c2a9d429",
   "metadata": {},
   "outputs": [],
   "source": [
    "import os\n",
    "from dotenv import load_dotenv\n",
    "from langchain_core.prompts import ChatPromptTemplate\n",
    "from langchain_openai import ChatOpenAI \n",
    "\n",
    "load_dotenv()\n",
    "OPENAI_API_KEY = os.getenv(\"OPENAI_API_KEY\")\n",
    "#print(OPENAI_API_KEY)"
   ]
  },
  {
   "cell_type": "code",
   "execution_count": 4,
   "id": "3ae6c7fa",
   "metadata": {},
   "outputs": [
    {
     "name": "stdout",
     "output_type": "stream",
     "text": [
      "input_variables=['input'] input_types={} partial_variables={} messages=[SystemMessagePromptTemplate(prompt=PromptTemplate(input_variables=[], input_types={}, partial_variables={}, template='당신은 개발자입니다.'), additional_kwargs={}), HumanMessagePromptTemplate(prompt=PromptTemplate(input_variables=['input'], input_types={}, partial_variables={}, template='{input}'), additional_kwargs={})]\n"
     ]
    }
   ],
   "source": [
    "# prompt\n",
    "prompt = ChatPromptTemplate.from_messages(\n",
    "    [ (\"system\", \"당신은 개발자입니다.\") , \n",
    "     (\"human\", \"{input}\") ]\n",
    ")\n",
    "print(prompt)\n",
    "\n",
    "prompt_text = prompt.format(input=\"LangServe는 무엇인가요? 자세하게 설명해주세요\")"
   ]
  },
  {
   "cell_type": "code",
   "execution_count": 7,
   "id": "815f9447",
   "metadata": {},
   "outputs": [
    {
     "name": "stdout",
     "output_type": "stream",
     "text": [
      "client=<openai.resources.chat.completions.completions.Completions object at 0x00000196DEF8FA40> async_client=<openai.resources.chat.completions.completions.AsyncCompletions object at 0x00000196E1855040> root_client=<openai.OpenAI object at 0x00000196E1AB5940> root_async_client=<openai.AsyncOpenAI object at 0x00000196E1D9AD80> model_name='gpt-4o' temperature=0.7 model_kwargs={} openai_api_key=SecretStr('**********')\n"
     ]
    }
   ],
   "source": [
    "# ChatGPT API를 사용하는 ChatOpenAI 인스턴스 생성\n",
    "llm = ChatOpenAI(\n",
    "    #model=\"gpt-3.5-turbo-0125\",\n",
    "    model=\"gpt-4o\",\n",
    "    temperature=0.7\n",
    ")\n",
    "print(llm)"
   ]
  },
  {
   "cell_type": "code",
   "execution_count": 8,
   "id": "7302a8f1",
   "metadata": {},
   "outputs": [
    {
     "name": "stdout",
     "output_type": "stream",
     "text": [
      "<class 'langchain_core.messages.ai.AIMessage'>\n",
      "content='LangServe는 자연어 처리(NLP) 애플리케이션을 개발하고 배포하는 데 사용되는 시스템이나 플랫폼일 가능성이 높습니다. 이러한 플랫폼은 일반적으로 여러 언어를 이해하고 처리할 수 있는 기능을 제공하며, 텍스트 분석, 번역, 음성 인식 및 생성과 같은 다양한 NLP 작업을 지원합니다.\\n\\nLangServe의 구체적인 기능이나 아키텍처는 제공된 정보가 없기 때문에 정확히 알 수 없지만, 일반적으로 이러한 플랫폼은 다음과 같은 기능을 포함할 수 있습니다:\\n\\n1. **언어 모델**: 다양한 언어를 이해하고 처리하기 위한 사전 훈련된 언어 모델을 포함합니다. 이러한 모델은 텍스트를 입력으로 받아 자연어 이해, 분류, 요약 등을 수행할 수 있습니다.\\n\\n2. **API 제공**: 개발자들이 쉽게 통합할 수 있도록 RESTful API 또는 gRPC와 같은 인터페이스를 제공하여 NLP 기능을 애플리케이션에 포함시킬 수 있습니다.\\n\\n3. **확장성**: 대규모 데이터 처리를 지원하기 위해 클라우드 기반으로 확장 가능한 구조를 가지고 있을 수 있습니다. 이는 대량의 요청을 처리할 수 있는 능력을 의미합니다.\\n\\n4. **맞춤형 모델**: 사용자의 특정 요구에 맞춰 모델을 훈련시키거나 미세 조정할 수 있는 기능을 제공할 수 있습니다. 이를 통해 특정 도메인이나 사용 사례에 최적화된 성능을 발휘할 수 있습니다.\\n\\n5. **통합 도구**: 텍스트 전처리, 토큰화, 품사 태깅, 의존성 파싱 등 NLP 프로세스를 지원하는 다양한 도구와 라이브러리를 포함할 수 있습니다.\\n\\n6. **보안 및 개인정보 보호**: 사용자 데이터의 보안과 개인정보 보호를 위한 암호화 및 접근 제어 기능을 포함할 수 있습니다.\\n\\nLangServe가 특정 제품이나 서비스라면, 공식 웹사이트나 제품 설명서를 참조하여 구체적인 정보를 얻는 것이 좋습니다.' additional_kwargs={'refusal': None} response_metadata={'token_usage': {'completion_tokens': 439, 'prompt_tokens': 28, 'total_tokens': 467, 'completion_tokens_details': {'accepted_prediction_tokens': 0, 'audio_tokens': 0, 'reasoning_tokens': 0, 'rejected_prediction_tokens': 0}, 'prompt_tokens_details': {'audio_tokens': 0, 'cached_tokens': 0}}, 'model_name': 'gpt-4o-2024-08-06', 'system_fingerprint': 'fp_90122d973c', 'id': 'chatcmpl-Bgla0qUky2C9RwR2HAMnZ008WZH6S', 'service_tier': 'default', 'finish_reason': 'stop', 'logprobs': None} id='run--953b8c3e-4f61-4c6b-8c5b-167736381749-0' usage_metadata={'input_tokens': 28, 'output_tokens': 439, 'total_tokens': 467, 'input_token_details': {'audio': 0, 'cache_read': 0}, 'output_token_details': {'audio': 0, 'reasoning': 0}}\n",
      "응답: LangServe는 자연어 처리(NLP) 애플리케이션을 개발하고 배포하는 데 사용되는 시스템이나 플랫폼일 가능성이 높습니다. 이러한 플랫폼은 일반적으로 여러 언어를 이해하고 처리할 수 있는 기능을 제공하며, 텍스트 분석, 번역, 음성 인식 및 생성과 같은 다양한 NLP 작업을 지원합니다.\n",
      "\n",
      "LangServe의 구체적인 기능이나 아키텍처는 제공된 정보가 없기 때문에 정확히 알 수 없지만, 일반적으로 이러한 플랫폼은 다음과 같은 기능을 포함할 수 있습니다:\n",
      "\n",
      "1. **언어 모델**: 다양한 언어를 이해하고 처리하기 위한 사전 훈련된 언어 모델을 포함합니다. 이러한 모델은 텍스트를 입력으로 받아 자연어 이해, 분류, 요약 등을 수행할 수 있습니다.\n",
      "\n",
      "2. **API 제공**: 개발자들이 쉽게 통합할 수 있도록 RESTful API 또는 gRPC와 같은 인터페이스를 제공하여 NLP 기능을 애플리케이션에 포함시킬 수 있습니다.\n",
      "\n",
      "3. **확장성**: 대규모 데이터 처리를 지원하기 위해 클라우드 기반으로 확장 가능한 구조를 가지고 있을 수 있습니다. 이는 대량의 요청을 처리할 수 있는 능력을 의미합니다.\n",
      "\n",
      "4. **맞춤형 모델**: 사용자의 특정 요구에 맞춰 모델을 훈련시키거나 미세 조정할 수 있는 기능을 제공할 수 있습니다. 이를 통해 특정 도메인이나 사용 사례에 최적화된 성능을 발휘할 수 있습니다.\n",
      "\n",
      "5. **통합 도구**: 텍스트 전처리, 토큰화, 품사 태깅, 의존성 파싱 등 NLP 프로세스를 지원하는 다양한 도구와 라이브러리를 포함할 수 있습니다.\n",
      "\n",
      "6. **보안 및 개인정보 보호**: 사용자 데이터의 보안과 개인정보 보호를 위한 암호화 및 접근 제어 기능을 포함할 수 있습니다.\n",
      "\n",
      "LangServe가 특정 제품이나 서비스라면, 공식 웹사이트나 제품 설명서를 참조하여 구체적인 정보를 얻는 것이 좋습니다.\n"
     ]
    }
   ],
   "source": [
    "try:\n",
    "    response = llm.invoke(prompt_text)\n",
    "    print(type(response))\n",
    "    print(response)\n",
    "    print(\"응답:\", response.content)\n",
    "except Exception as e:\n",
    "    print(f\"오류 발생: {e}\")"
   ]
  }
 ],
 "metadata": {
  "kernelspec": {
   "display_name": "langchain-basic-kGdHTiMZ-py3.12",
   "language": "python",
   "name": "python3"
  },
  "language_info": {
   "codemirror_mode": {
    "name": "ipython",
    "version": 3
   },
   "file_extension": ".py",
   "mimetype": "text/x-python",
   "name": "python",
   "nbconvert_exporter": "python",
   "pygments_lexer": "ipython3",
   "version": "3.12.7"
  }
 },
 "nbformat": 4,
 "nbformat_minor": 5
}
