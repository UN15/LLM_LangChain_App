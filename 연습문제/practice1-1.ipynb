{
 "cells": [
  {
   "cell_type": "markdown",
   "id": "4cdb6aa2",
   "metadata": {},
   "source": [
    "### 문제 1-1 : 기본 체인 만들기 - AI 요리사\n"
   ]
  },
  {
   "cell_type": "code",
   "execution_count": 3,
   "id": "a5972450",
   "metadata": {},
   "outputs": [
    {
     "name": "stdout",
     "output_type": "stream",
     "text": [
      "<class 'str'>\n",
      "계란, 밥, 김치로 만들 수 있는 간단한 요리로는 '김치볶음밥'과 '김치 계란밥'이 있습니다. \n",
      "\n",
      "### 김치볶음밥\n",
      "\n",
      "**재료**: 밥 1컵, 김치 1/2컵 (잘게 썬 것), 계란 1개, 참기름 1티스푼, 소금 및 후추 맛\n",
      "\n",
      "**레시피**:\n",
      "\n",
      "1.  팬에 참기름을 두르고 썬 김치를 넣어 볶습니다.\n",
      "2.  김치가 볶아지면 미리 풀어둔 계란을 넣고 스크램블 에그처럼 만들어줍니다.\n",
      "3.  이제 밥을 넣고 모든 재료가 잘 섞이도록 볶습니다.\n",
      "4.  소금과 후추로 간을 맞추고 마무리합니다.\n",
      "\n",
      "### 김치 계란밥\n",
      "\n",
      "**재료**: 밥 1컵, 김치 1/4컵 (잘게 썬 것), 계란 1개, 참기름 1티스푼, 소금 맛\n",
      "\n",
      "**레시피**:\n",
      "\n",
      "1.  밥에 참기름과 소금을 넣어 잘 섞습니다.\n",
      "2.  썬 김치를 위에 올립니다.\n",
      "3.  계란을 반숙으로 만들어 김치 위에 올립니다.\n",
      "4.  모든 재료가 섞이도록 한 번 뒤집어줍니다.\n",
      "\n",
      "이 두 가지 요리는 간단하면서도 영양가 있는 한 끼 식사로 좋습니다.\n"
     ]
    }
   ],
   "source": [
    "import os\n",
    "from dotenv import load_dotenv\n",
    "from langchain_core.prompts import PromptTemplate\n",
    "from langchain_openai import ChatOpenAI \n",
    "from langchain_core.output_parsers import StrOutputParser\n",
    "\n",
    "load_dotenv()\n",
    "OPENAI_API_KEY = os.getenv(\"OPENAI_API_KEY\")\n",
    "\n",
    "\n",
    "prompt = PromptTemplate.from_template(\n",
    "    \"\"\"\n",
    "    당신은 요리 AI 전문가입니다. \n",
    "    {input} 재료로 만들 수 있는 추천 요리와 간단한 레시피를 알려주세요.\n",
    "    \"\"\")\n",
    "\n",
    "# Groq API를 사용하는 ChatOpenAI 인스턴스 생성\n",
    "llm = ChatOpenAI(\n",
    "    # api_key=OPENAI_API_KEY,\n",
    "    base_url=\"https://api.groq.com/openai/v1\",  # Groq API 엔드포인트\n",
    "    model=\"meta-llama/llama-4-scout-17b-16e-instruct\",\n",
    "    # model = \"mistral-saba-24b\",\n",
    "    temperature=0.7\n",
    ")\n",
    "output_parser = StrOutputParser()\n",
    "\n",
    "\n",
    "# chain 연결 (LCEL) prompt+llm 연결\n",
    "chain = prompt | llm | output_parser\n",
    "\n",
    "try:\n",
    "    result = chain.invoke({\"input\": \"계란, 밥, 김치\"})\n",
    "    print(type(result))\n",
    "    print(result)\n",
    "except Exception as e:\n",
    "    print(f\"오류 발생: {e}\")"
   ]
  }
 ],
 "metadata": {
  "kernelspec": {
   "display_name": "langchain-basic-kGdHTiMZ-py3.12",
   "language": "python",
   "name": "python3"
  },
  "language_info": {
   "codemirror_mode": {
    "name": "ipython",
    "version": 3
   },
   "file_extension": ".py",
   "mimetype": "text/x-python",
   "name": "python",
   "nbconvert_exporter": "python",
   "pygments_lexer": "ipython3",
   "version": "3.12.7"
  }
 },
 "nbformat": 4,
 "nbformat_minor": 5
}
