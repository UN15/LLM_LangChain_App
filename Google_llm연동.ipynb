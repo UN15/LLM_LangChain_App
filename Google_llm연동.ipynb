{
 "cells": [
  {
   "cell_type": "code",
   "execution_count": 1,
   "id": "35ccdc2d",
   "metadata": {},
   "outputs": [
    {
     "name": "stdout",
     "output_type": "stream",
     "text": [
      "AI\n"
     ]
    }
   ],
   "source": [
    "import os\n",
    "from dotenv import load_dotenv\n",
    "\n",
    "load_dotenv()\n",
    "GOOGLE_API_KEY = os.getenv(\"GOOGLE_API_KEY\")\n",
    "print(GOOGLE_API_KEY[:2])"
   ]
  },
  {
   "cell_type": "code",
   "execution_count": null,
   "id": "6902fdd5",
   "metadata": {},
   "outputs": [
    {
     "name": "stdout",
     "output_type": "stream",
     "text": [
      " Google Gemini Response:\n",
      "LangChain은 대규모 언어 모델(LLM)을 기반으로 응용 프로그램을 구축하기 위한 프레임워크입니다.  단순히 LLM을 호출하는 것 이상으로, 여러 LLM을 연결하고, 외부 데이터 소스와 통합하며, 메모리 및 채팅 기능을 제공하여 더욱 강력하고 유용한 애플리케이션을 개발할 수 있도록 지원합니다.  핵심 기능은 다음과 같습니다.\n",
      "\n",
      "* **모듈성:** LangChain은 다양한 구성 요소(LLM, 프로세서, 메모리, 데이터 연결 등)를 모듈화하여 개발자가 필요에 따라 자유롭게 조합하고 사용할 수 있도록 합니다.  이를 통해 복잡한 애플리케이션도 효율적으로 구축할 수 있습니다.\n",
      "\n",
      "* **LLM 연결:** 다양한 LLM 제공자(OpenAI, Hugging Face 등)를 지원하여 개발자가 가장 적합한 모델을 선택하고 사용할 수 있도록 합니다.  또한, 여러 LLM을 병렬로 또는 순차적으로 사용하여 애플리케이션의 성능과 기능을 향상시킬 수 있습니다.\n",
      "\n",
      "* **외부 데이터 소스 통합:**  LLM을 데이터베이스, API, 파일 시스템 등 다양한 외부 데이터 소스와 연결하여 LLM이 외부 정보에 접근하고 활용할 수 있도록 합니다.  이를 통해 LLM의 지식 범위를 확장하고, 더욱 정확하고 유용한 응답을 생성할 수 있습니다.\n",
      "\n",
      "* **메모리 관리:**  대화형 애플리케이션에서 이전 대화 내용을 기억하고 활용할 수 있도록 메모리 기능을 제공합니다.  이를 통해 LLM이 맥락을 이해하고 일관성 있는 응답을 생성할 수 있습니다.  다양한 메모리 유형(단기 메모리, 장기 메모리 등)을 지원하여 애플리케이션의 요구사항에 맞게 메모리 기능을 사용자 지정할 수 있습니다.\n",
      "\n",
      "* **체인(Chains):**  여러 구성 요소를 연결하여 복잡한 작업을 수행할 수 있는 체인 기능을 제공합니다.  예를 들어, 데이터베이스에서 정보를 검색하고, LLM을 사용하여 정보를 요약하고, 최종 결과를 생성하는 등의 작업을 하나의 체인으로 구성할 수 있습니다.\n",
      "\n",
      "* **에이전트(Agents):**  LLM이 외부 도구를 자율적으로 사용하여 작업을 수행할 수 있도록 하는 에이전트 기능을 제공합니다.  에이전트는 LLM이 어떤 도구를 사용해야 하는지 결정하고, 도구를 사용하여 정보를 수집하고, 최종 결과를 생성합니다.\n",
      "\n",
      "\n",
      "요약하자면, LangChain은 LLM을 중심으로 다양한 구성 요소를 효율적으로 통합하고 관리하여 복잡하고 강력한 LLM 기반 애플리케이션을 개발할 수 있도록 돕는 프레임워크입니다.  단순한 LLM 응용 프로그램을 넘어, 실제 문제 해결에 활용 가능한 지능형 시스템을 구축하는 데 유용합니다.\n"
     ]
    }
   ],
   "source": [
    "from langchain_google_genai import ChatGoogleGenerativeAI\n",
    "from langchain_core.prompts import ChatPromptTemplate\n",
    "    \n",
    "# API 키 설정\n",
    "# os.environ[\"GOOGLE_API_KEY\"] = \"your-google-api-key\"\n",
    "\n",
    "# 모델 초기화\n",
    "llm = ChatGoogleGenerativeAI(\n",
    "    model=\"gemini-1.5-flash\",  # 또는 \"gemini-pro-vision\"\n",
    "    temperature=0.3    \n",
    ")\n",
    "\n",
    "# 프롬프트 설정\n",
    "prompt = ChatPromptTemplate.from_messages([\n",
    "    (\"system\", \"당신은 AI 전문가입니다다.\"),\n",
    "    (\"human\", \"{topic}은 무엇인가요?\")\n",
    "])\n",
    "\n",
    "# 체인 실행\n",
    "chain = prompt | llm\n",
    "response = chain.invoke({\"topic\": \"LangChain\"})\n",
    "\n",
    "print(\" Google Gemini Response:\")\n",
    "print(response.content)"
   ]
  }
 ],
 "metadata": {
  "kernelspec": {
   "display_name": "langchain-basic-kGdHTiMZ-py3.12",
   "language": "python",
   "name": "python3"
  },
  "language_info": {
   "codemirror_mode": {
    "name": "ipython",
    "version": 3
   },
   "file_extension": ".py",
   "mimetype": "text/x-python",
   "name": "python",
   "nbconvert_exporter": "python",
   "pygments_lexer": "ipython3",
   "version": "3.12.7"
  }
 },
 "nbformat": 4,
 "nbformat_minor": 5
}
